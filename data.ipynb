{
 "cells": [
  {
   "cell_type": "code",
   "execution_count": 1,
   "metadata": {},
   "outputs": [],
   "source": [
    "import os\n",
    "import pandas as pd\n",
    "from PIL import Image\n",
    "\n",
    "import torch\n",
    "import torch.nn as nn\n",
    "import torch.nn.functional as F\n",
    "from torch.utils.data import Dataset, DataLoader\n",
    "\n",
    "from torchvision import transforms\n",
    "from torchvision.transforms import Resize, ToTensor, Normalize"
   ]
  },
  {
   "cell_type": "code",
   "execution_count": 2,
   "metadata": {},
   "outputs": [],
   "source": [
    "data_root = \"/opt/ml/level1/mask_data/train\""
   ]
  },
  {
   "cell_type": "code",
   "execution_count": null,
   "metadata": {},
   "outputs": [],
   "source": []
  },
  {
   "cell_type": "code",
   "execution_count": 3,
   "metadata": {},
   "outputs": [],
   "source": [
    "# meta 데이터와 이미지 경로를 불러옵니다.\n",
    "submission = pd.read_csv(os.path.join(data_root, 'train.csv'))\n",
    "image_dir = os.path.join(data_root, 'images')"
   ]
  },
  {
   "cell_type": "code",
   "execution_count": 7,
   "metadata": {},
   "outputs": [
    {
     "data": {
      "text/plain": [
       "(60, 18)"
      ]
     },
     "execution_count": 7,
     "metadata": {},
     "output_type": "execute_result"
    }
   ],
   "source": [
    "submission.age.max(), submission.age.min()"
   ]
  },
  {
   "cell_type": "code",
   "execution_count": 8,
   "metadata": {},
   "outputs": [],
   "source": [
    "submission['new_age'] = submission.age.map(lambda x : (x - submission.age.min()) / (submission.age.max() - submission.age.min()))"
   ]
  },
  {
   "cell_type": "code",
   "execution_count": 10,
   "metadata": {},
   "outputs": [
    {
     "data": {
      "text/plain": [
       "0       45\n",
       "1       52\n",
       "2       54\n",
       "3       58\n",
       "4       59\n",
       "        ..\n",
       "2695    19\n",
       "2696    19\n",
       "2697    19\n",
       "2698    20\n",
       "2699    19\n",
       "Name: age, Length: 2700, dtype: int64"
      ]
     },
     "execution_count": 10,
     "metadata": {},
     "output_type": "execute_result"
    }
   ],
   "source": [
    "submission.age"
   ]
  },
  {
   "cell_type": "code",
   "execution_count": 9,
   "metadata": {},
   "outputs": [
    {
     "data": {
      "text/plain": [
       "0       0.642857\n",
       "1       0.809524\n",
       "2       0.857143\n",
       "3       0.952381\n",
       "4       0.976190\n",
       "          ...   \n",
       "2695    0.023810\n",
       "2696    0.023810\n",
       "2697    0.023810\n",
       "2698    0.047619\n",
       "2699    0.023810\n",
       "Name: new_age, Length: 2700, dtype: float64"
      ]
     },
     "execution_count": 9,
     "metadata": {},
     "output_type": "execute_result"
    }
   ],
   "source": [
    "submission.new_age"
   ]
  },
  {
   "cell_type": "code",
   "execution_count": 7,
   "metadata": {},
   "outputs": [
    {
     "data": {
      "text/plain": [
       "count    2700.000000\n",
       "mean       37.708148\n",
       "std        16.985904\n",
       "min        18.000000\n",
       "25%        20.000000\n",
       "50%        36.000000\n",
       "75%        55.000000\n",
       "max        60.000000\n",
       "Name: age, dtype: float64"
      ]
     },
     "execution_count": 7,
     "metadata": {},
     "output_type": "execute_result"
    }
   ],
   "source": [
    "submission.age.describe()"
   ]
  },
  {
   "cell_type": "code",
   "execution_count": 16,
   "metadata": {},
   "outputs": [],
   "source": [
    "import glob\n",
    "image_paths = glob.glob(os.path.join(image_dir, '*', '*'))"
   ]
  },
  {
   "cell_type": "code",
   "execution_count": 40,
   "metadata": {},
   "outputs": [],
   "source": [
    "def path_to_label(paths):\n",
    "    labels = []\n",
    "    for path in paths:\n",
    "        label_num = []\n",
    "        label = path.split(os.path.sep)[-2:]\n",
    "        if 'incorrect' in label[1]:\n",
    "            label_num.append(2)\n",
    "        elif 'mask' in label[1]:\n",
    "            label_num.append(1)\n",
    "        else: label_num.append(0)\n",
    "\n",
    "        gender_age = label[0].split('_')\n",
    "        gender = 0 if gender_age[1] == 'female' else 1\n",
    "        age = int(gender_age[-1])\n",
    "        label_num.extend([gender, age])\n",
    "        labels.append(label_num)\n",
    "    return labels"
   ]
  },
  {
   "cell_type": "code",
   "execution_count": 41,
   "metadata": {},
   "outputs": [],
   "source": [
    "labels = path_to_label(image_paths)    "
   ]
  },
  {
   "cell_type": "code",
   "execution_count": 42,
   "metadata": {},
   "outputs": [
    {
     "data": {
      "text/plain": [
       "18900"
      ]
     },
     "execution_count": 42,
     "metadata": {},
     "output_type": "execute_result"
    }
   ],
   "source": [
    "len(labels)"
   ]
  },
  {
   "cell_type": "code",
   "execution_count": 43,
   "metadata": {},
   "outputs": [
    {
     "data": {
      "text/plain": [
       "[[1, 0, 60],\n",
       " [0, 0, 60],\n",
       " [1, 0, 60],\n",
       " [1, 0, 60],\n",
       " [1, 0, 60],\n",
       " [1, 0, 60],\n",
       " [2, 0, 60],\n",
       " [1, 0, 55],\n",
       " [0, 0, 55],\n",
       " [1, 0, 55],\n",
       " [1, 0, 55],\n",
       " [1, 0, 55],\n",
       " [1, 0, 55],\n",
       " [2, 0, 55],\n",
       " [1, 1, 19],\n",
       " [1, 1, 19],\n",
       " [2, 1, 19],\n",
       " [0, 1, 19],\n",
       " [1, 1, 19],\n",
       " [1, 1, 19]]"
      ]
     },
     "execution_count": 43,
     "metadata": {},
     "output_type": "execute_result"
    }
   ],
   "source": [
    "labels[:20]"
   ]
  },
  {
   "cell_type": "code",
   "execution_count": null,
   "metadata": {},
   "outputs": [],
   "source": []
  }
 ],
 "metadata": {
  "kernelspec": {
   "display_name": "cls",
   "language": "python",
   "name": "cls"
  },
  "language_info": {
   "codemirror_mode": {
    "name": "ipython",
    "version": 3
   },
   "file_extension": ".py",
   "mimetype": "text/x-python",
   "name": "python",
   "nbconvert_exporter": "python",
   "pygments_lexer": "ipython3",
   "version": "3.9.12"
  },
  "orig_nbformat": 4
 },
 "nbformat": 4,
 "nbformat_minor": 2
}
