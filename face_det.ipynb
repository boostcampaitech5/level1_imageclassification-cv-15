{
 "cells": [
  {
   "cell_type": "code",
   "execution_count": null,
   "id": "d2c1f53a",
   "metadata": {},
   "outputs": [],
   "source": [
    "# !pip install facenet-pytorch"
   ]
  },
  {
   "cell_type": "code",
   "execution_count": 1,
   "id": "76472c95",
   "metadata": {},
   "outputs": [
    {
     "name": "stderr",
     "output_type": "stream",
     "text": [
      "/opt/conda/envs/myenv1/lib/python3.8/site-packages/tqdm/auto.py:21: TqdmWarning: IProgress not found. Please update jupyter and ipywidgets. See https://ipywidgets.readthedocs.io/en/stable/user_install.html\n",
      "  from .autonotebook import tqdm as notebook_tqdm\n"
     ]
    }
   ],
   "source": [
    "from facenet_pytorch import MTCNN\n",
    "import torch\n",
    "import numpy as np\n",
    "from glob import glob\n",
    "import PIL\n",
    "from PIL import Image\n",
    "import matplotlib.pyplot as plt"
   ]
  },
  {
   "cell_type": "code",
   "execution_count": 2,
   "id": "2b9be89d",
   "metadata": {},
   "outputs": [
    {
     "name": "stdout",
     "output_type": "stream",
     "text": [
      "Running on device: cuda:0\n"
     ]
    }
   ],
   "source": [
    "device = torch.device('cuda:0' if torch.cuda.is_available() else 'cpu')\n",
    "print('Running on device: {}'.format(device))"
   ]
  },
  {
   "cell_type": "code",
   "execution_count": 3,
   "id": "001f144e",
   "metadata": {},
   "outputs": [],
   "source": [
    "mtcnn = MTCNN(keep_all=True, thresholds=[0.1, 0.1, 0.2], device=device)"
   ]
  },
  {
   "cell_type": "code",
   "execution_count": 4,
   "id": "c35b109a",
   "metadata": {},
   "outputs": [],
   "source": [
    "img_list = glob('../input/data/train/images/*/*.jpg')\n",
    "eval_list = glob('../input/data/eval/images/*.jpg')"
   ]
  },
  {
   "cell_type": "code",
   "execution_count": 5,
   "id": "b568bd6e",
   "metadata": {},
   "outputs": [],
   "source": [
    "def expand_bbox(bbox, ratio=0.2):\n",
    "    x_min, y_min, x_max, y_max = bbox\n",
    "    \n",
    "    H = y_max - y_min\n",
    "    W = x_max - x_min\n",
    "    \n",
    "    x_min = max(0, int(x_min - W*ratio/2))\n",
    "    x_max = int(x_max + W*ratio/2)\n",
    "    y_min = max(0, int(y_min - H*ratio/2))\n",
    "    y_max = int(y_max + H*ratio/2)\n",
    "    \n",
    "    return x_min, y_min, x_max, y_max"
   ]
  },
  {
   "cell_type": "code",
   "execution_count": 6,
   "id": "8daef7fd",
   "metadata": {},
   "outputs": [],
   "source": [
    "def crop_bbox(img, bbox):\n",
    "    if isinstance(img, PIL.JpegImagePlugin.JpegImageFile):\n",
    "        img = np.array(img)\n",
    "    return img[bbox[1]:bbox[3], bbox[0]:bbox[2]].copy()"
   ]
  },
  {
   "cell_type": "code",
   "execution_count": 7,
   "id": "552dd891",
   "metadata": {},
   "outputs": [],
   "source": [
    "import os\n",
    "import cv2"
   ]
  },
  {
   "cell_type": "code",
   "execution_count": 8,
   "id": "0ec51885",
   "metadata": {},
   "outputs": [],
   "source": [
    "from tqdm import tqdm"
   ]
  },
  {
   "cell_type": "code",
   "execution_count": 9,
   "id": "10277444",
   "metadata": {},
   "outputs": [],
   "source": [
    "batch_size = 128"
   ]
  },
  {
   "cell_type": "code",
   "execution_count": null,
   "id": "b27e019a",
   "metadata": {},
   "outputs": [],
   "source": [
    "# batch inference\n",
    "for i in tqdm(range(0, len(img_list), batch_size)):\n",
    "    batch_img_list = img_list[i : batch_size+i]\n",
    "    batch_inputs = [Image.open(path) for path in batch_img_list]\n",
    "    \n",
    "    boxes, _ = mtcnn.detect(batch_inputs)\n",
    "    \n",
    "    for img_path, img, bbox in zip(batch_img_list, batch_inputs, boxes):\n",
    "        try:\n",
    "            bbox = expand_bbox(bbox[0])\n",
    "            crop_face = crop_bbox(img, bbox)\n",
    "\n",
    "            save_path = img_path.replace('input', 'face_input')\n",
    "            os.makedirs(os.path.dirname(save_path), exist_ok=True)\n",
    "\n",
    "            cv2.imwrite(save_path, crop_face[:,:,::-1]) # RGB -> BGR\n",
    "        except Exception as e:\n",
    "            print(\"Error:\", img_path, e)\n",
    "        \n",
    "#     break"
   ]
  },
  {
   "cell_type": "code",
   "execution_count": null,
   "id": "780b3f9f",
   "metadata": {},
   "outputs": [
    {
     "name": "stderr",
     "output_type": "stream",
     "text": [
      " 99%|█████████████████████████████████████████████████████████████████████████████████████████████████████████████████████▊ | 98/99 [18:31<00:11, 11.98s/it]"
     ]
    }
   ],
   "source": [
    "# batch inference\n",
    "for i in tqdm(range(0, len(eval_list), batch_size)):\n",
    "    batch_img_list = eval_list[i : batch_size+i]\n",
    "    batch_inputs = [Image.open(path) for path in batch_img_list]\n",
    "    \n",
    "    boxes, _ = mtcnn.detect(batch_inputs)\n",
    "    \n",
    "    for img_path, img, bbox in zip(batch_img_list, batch_inputs, boxes):\n",
    "        try:\n",
    "            bbox = expand_bbox(bbox[0])\n",
    "            crop_face = crop_bbox(img, bbox)\n",
    "\n",
    "            save_path = img_path.replace('input', 'face_input')\n",
    "            os.makedirs(os.path.dirname(save_path), exist_ok=True)\n",
    "\n",
    "            cv2.imwrite(save_path, crop_face[:,:,::-1]) # RGB -> BGR\n",
    "        except Exception as e:\n",
    "            print(\"Error:\", img_path, e)"
   ]
  },
  {
   "cell_type": "code",
   "execution_count": null,
   "id": "b17ee816",
   "metadata": {},
   "outputs": [],
   "source": []
  }
 ],
 "metadata": {
  "kernelspec": {
   "display_name": "Python 3 (ipykernel)",
   "language": "python",
   "name": "python3"
  },
  "language_info": {
   "codemirror_mode": {
    "name": "ipython",
    "version": 3
   },
   "file_extension": ".py",
   "mimetype": "text/x-python",
   "name": "python",
   "nbconvert_exporter": "python",
   "pygments_lexer": "ipython3",
   "version": "3.8.5"
  }
 },
 "nbformat": 4,
 "nbformat_minor": 5
}
